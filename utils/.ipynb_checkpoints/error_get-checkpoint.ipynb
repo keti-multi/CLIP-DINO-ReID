{
 "cells": [
  {
   "cell_type": "code",
   "execution_count": 1,
   "id": "1acd77df-47e2-455d-bd53-a2eeec881460",
   "metadata": {},
   "outputs": [],
   "source": [
    "import numpy as np\n",
    "import os\n",
    "\n",
    "error_file = \"../clipreid_msmt_falser.txt\"\n",
    "error_result_file = \"../cmc_keep.txt\"\n",
    "error_result_score_file = \"../fail_score_keep.txt\"\n",
    "succ_result_succ_file = \"../succ_score_keep.txt\"\n",
    "\n",
    "root_path = \"/media/syh/ssd2/data/ReID/\"\n",
    "\n",
    "root_path = \"/media/syh/ssd2/data/ReID/MUF_KETI\"\n",
    "\n",
    "\n",
    "\n",
    "q_txt = os.path.join(root_path,\"list_query.txt\")\n",
    "g_txt = os.path.join(root_path,\"list_gallery.txt\")\n"
   ]
  },
  {
   "cell_type": "code",
   "execution_count": 2,
   "id": "a2b30e66-5728-4f63-937e-67c3efb8ce38",
   "metadata": {
    "scrolled": true
   },
   "outputs": [],
   "source": [
    "falser=[]\n",
    "falsee1=[]\n",
    "falsee2=[]\n",
    "falsee3=[]\n",
    "falsee4=[]\n",
    "falsee5=[]\n",
    "with open(error_file,\"r\") as f:\n",
    "    while True:\n",
    "        line = f.readline()\n",
    "        if not line: break\n",
    "        falsees=line.split(',')\n",
    "        falser.append(falsees[0])\n",
    "        falsee1.append(falsees[1])\n",
    "        falsee2.append(falsees[2])\n",
    "        falsee3.append(falsees[3])\n",
    "        falsee4.append(falsees[4])\n",
    "        falsee5.append(falsees[5])\n",
    "    f.close()\n"
   ]
  },
  {
   "cell_type": "code",
   "execution_count": 3,
   "id": "0a0f0431-dfa0-4c82-bb6d-cbc328c291f4",
   "metadata": {},
   "outputs": [],
   "source": [
    "result=[]\n",
    "\n",
    "with open(error_result_file,\"r\") as f:\n",
    "    while True:\n",
    "        line = f.readline()\n",
    "        if not line: break\n",
    "        result.append(line[:-1])\n",
    "    f.close()"
   ]
  },
  {
   "cell_type": "code",
   "execution_count": 4,
   "id": "81e004aa-7fe2-44eb-8bed-3fdc7fb14883",
   "metadata": {},
   "outputs": [],
   "source": [
    "result_score=[]\n",
    "\n",
    "with open(error_result_score_file,\"r\") as f:\n",
    "    while True:\n",
    "        line = f.readline()\n",
    "        if not line: break\n",
    "        result_score.append(line[:-1])\n",
    "    f.close()"
   ]
  },
  {
   "cell_type": "code",
   "execution_count": 5,
   "id": "f18f8cf7-593e-4edc-ac27-e14ea56d946c",
   "metadata": {},
   "outputs": [
    {
     "data": {
      "text/plain": [
       "'04166527'"
      ]
     },
     "execution_count": 5,
     "metadata": {},
     "output_type": "execute_result"
    }
   ],
   "source": [
    "result_score[0].split(',')[0][2:]"
   ]
  },
  {
   "cell_type": "code",
   "execution_count": 6,
   "id": "08606dc7-bd68-4719-a6ba-ef1b9e50c109",
   "metadata": {},
   "outputs": [],
   "source": [
    "result_score_succ=[]\n",
    "\n",
    "with open(succ_result_succ_file,\"r\") as f:\n",
    "    while True:\n",
    "        line = f.readline()\n",
    "        if not line: break\n",
    "        result_score_succ.append(line[:-1])\n",
    "    f.close()"
   ]
  },
  {
   "cell_type": "code",
   "execution_count": 7,
   "id": "09445654-1a04-450f-a9a4-e50809accf8a",
   "metadata": {
    "scrolled": true
   },
   "outputs": [],
   "source": [
    "q_path=[]\n",
    "with open(q_txt,\"r\") as f:\n",
    "    while True:\n",
    "        line = f.readline()\n",
    "        if not line: break\n",
    "        q_path.append(line.split(' ')[0])\n",
    "    f.close()\n",
    "\n",
    "g_path=[]\n",
    "with open(g_txt,\"r\") as f:\n",
    "    while True:\n",
    "        line = f.readline()\n",
    "        if not line: break\n",
    "        g_path.append(line.split(' ')[0])\n",
    "    f.close()"
   ]
  },
  {
   "cell_type": "code",
   "execution_count": 9,
   "id": "0c6cdaeb-fa06-4186-8988-4e3fc384167d",
   "metadata": {
    "scrolled": true
   },
   "outputs": [
    {
     "ename": "IndexError",
     "evalue": "list index out of range",
     "output_type": "error",
     "traceback": [
      "\u001b[0;31m---------------------------------------------------------------------------\u001b[0m",
      "\u001b[0;31mIndexError\u001b[0m                                Traceback (most recent call last)",
      "Cell \u001b[0;32mIn[9], line 22\u001b[0m\n\u001b[1;32m     19\u001b[0m falsee4_img\u001b[38;5;241m=\u001b[39mos\u001b[38;5;241m.\u001b[39mpath\u001b[38;5;241m.\u001b[39mjoin(root_path,\u001b[38;5;124m'\u001b[39m\u001b[38;5;124mtest\u001b[39m\u001b[38;5;124m'\u001b[39m,g_path[\u001b[38;5;28mint\u001b[39m(falsee4[i])])\n\u001b[1;32m     20\u001b[0m shutil\u001b[38;5;241m.\u001b[39mcopyfile(falsee4_img, os\u001b[38;5;241m.\u001b[39mpath\u001b[38;5;241m.\u001b[39mjoin(dst_root,\u001b[38;5;124m'\u001b[39m\u001b[38;5;132;01m{:04}\u001b[39;00m\u001b[38;5;124m'\u001b[39m\u001b[38;5;241m.\u001b[39mformat(\u001b[38;5;28mint\u001b[39m(falser[i]))\u001b[38;5;241m+\u001b[39m\u001b[38;5;124m'\u001b[39m\u001b[38;5;124m_4_\u001b[39m\u001b[38;5;124m'\u001b[39m\u001b[38;5;241m+\u001b[39mresult[i]\u001b[38;5;241m.\u001b[39msplit(\u001b[38;5;124m'\u001b[39m\u001b[38;5;124m,\u001b[39m\u001b[38;5;124m'\u001b[39m)[\u001b[38;5;241m3\u001b[39m]\u001b[38;5;241m+\u001b[39m\u001b[38;5;124m'\u001b[39m\u001b[38;5;124m_\u001b[39m\u001b[38;5;124m'\u001b[39m\u001b[38;5;241m+\u001b[39mg_path[\u001b[38;5;28mint\u001b[39m(falsee4[i])][:\u001b[38;5;241m4\u001b[39m]\u001b[38;5;241m+\u001b[39m\u001b[38;5;124m'\u001b[39m\u001b[38;5;124m_\u001b[39m\u001b[38;5;124m'\u001b[39m\u001b[38;5;241m+\u001b[39mresult_score[i]\u001b[38;5;241m.\u001b[39msplit(\u001b[38;5;124m'\u001b[39m\u001b[38;5;124m,\u001b[39m\u001b[38;5;124m'\u001b[39m)[\u001b[38;5;241m3\u001b[39m][\u001b[38;5;241m2\u001b[39m:]\u001b[38;5;241m+\u001b[39m\u001b[38;5;124m'\u001b[39m\u001b[38;5;124m.jpg\u001b[39m\u001b[38;5;124m'\u001b[39m))\n\u001b[0;32m---> 22\u001b[0m falsee5_img\u001b[38;5;241m=\u001b[39mos\u001b[38;5;241m.\u001b[39mpath\u001b[38;5;241m.\u001b[39mjoin(root_path,\u001b[38;5;124m'\u001b[39m\u001b[38;5;124mtest\u001b[39m\u001b[38;5;124m'\u001b[39m,\u001b[43mg_path\u001b[49m\u001b[43m[\u001b[49m\u001b[38;5;28;43mint\u001b[39;49m\u001b[43m(\u001b[49m\u001b[43mfalsee5\u001b[49m\u001b[43m[\u001b[49m\u001b[43mi\u001b[49m\u001b[43m]\u001b[49m\u001b[43m)\u001b[49m\u001b[43m]\u001b[49m)\n\u001b[1;32m     23\u001b[0m shutil\u001b[38;5;241m.\u001b[39mcopyfile(falsee5_img, os\u001b[38;5;241m.\u001b[39mpath\u001b[38;5;241m.\u001b[39mjoin(dst_root,\u001b[38;5;124m'\u001b[39m\u001b[38;5;132;01m{:04}\u001b[39;00m\u001b[38;5;124m'\u001b[39m\u001b[38;5;241m.\u001b[39mformat(\u001b[38;5;28mint\u001b[39m(falser[i]))\u001b[38;5;241m+\u001b[39m\u001b[38;5;124m'\u001b[39m\u001b[38;5;124m_5_\u001b[39m\u001b[38;5;124m'\u001b[39m\u001b[38;5;241m+\u001b[39mresult[i]\u001b[38;5;241m.\u001b[39msplit(\u001b[38;5;124m'\u001b[39m\u001b[38;5;124m,\u001b[39m\u001b[38;5;124m'\u001b[39m)[\u001b[38;5;241m4\u001b[39m]\u001b[38;5;241m+\u001b[39m\u001b[38;5;124m'\u001b[39m\u001b[38;5;124m_\u001b[39m\u001b[38;5;124m'\u001b[39m\u001b[38;5;241m+\u001b[39mg_path[\u001b[38;5;28mint\u001b[39m(falsee5[i])][:\u001b[38;5;241m4\u001b[39m]\u001b[38;5;241m+\u001b[39m\u001b[38;5;124m'\u001b[39m\u001b[38;5;124m_\u001b[39m\u001b[38;5;124m'\u001b[39m\u001b[38;5;241m+\u001b[39mresult_score[i]\u001b[38;5;241m.\u001b[39msplit(\u001b[38;5;124m'\u001b[39m\u001b[38;5;124m,\u001b[39m\u001b[38;5;124m'\u001b[39m)[\u001b[38;5;241m4\u001b[39m][\u001b[38;5;241m2\u001b[39m:]\u001b[38;5;241m+\u001b[39m\u001b[38;5;124m'\u001b[39m\u001b[38;5;124m.jpg\u001b[39m\u001b[38;5;124m'\u001b[39m))\n",
      "\u001b[0;31mIndexError\u001b[0m: list index out of range"
     ]
    }
   ],
   "source": [
    "import shutil\n",
    "out_dir = '/media/syh/hdd/Clip_ReID_KETI/error_case_result_KETI'\n",
    "for i in range(len(falser)):\n",
    "    false_img=os.path.join(root_path,'test',q_path[int(falser[i])])\n",
    "    dst_root=os.path.join(out_dir,'{:04}'.format(int(falser[i])))\n",
    "    if not os.path.exists(dst_root):\n",
    "        os.makedirs(dst_root)\n",
    "    shutil.copyfile(false_img, os.path.join(dst_root,'{:04}'.format(int(falser[i]))+'_0_'+q_path[int(falser[i])][:4]+'.jpg'))\n",
    "    \n",
    "    falsee1_img=os.path.join(root_path,'test',g_path[int(falsee1[i])])\n",
    "    shutil.copyfile(falsee1_img, os.path.join(dst_root,'{:04}'.format(int(falser[i]))+'_1_'+result[i].split(',')[0]+'_'+g_path[int(falsee1[i])][:4]+'_'+result_score[i].split(',')[0][2:]+'.jpg'))\n",
    "    \n",
    "    falsee2_img=os.path.join(root_path,'test',g_path[int(falsee2[i])])\n",
    "    shutil.copyfile(falsee2_img, os.path.join(dst_root,'{:04}'.format(int(falser[i]))+'_2_'+result[i].split(',')[1]+'_'+g_path[int(falsee2[i])][:4]+'_'+result_score[i].split(',')[1][2:]+'.jpg'))\n",
    "    \n",
    "    falsee3_img=os.path.join(root_path,'test',g_path[int(falsee3[i])])\n",
    "    shutil.copyfile(falsee3_img, os.path.join(dst_root,'{:04}'.format(int(falser[i]))+'_3_'+result[i].split(',')[2]+'_'+g_path[int(falsee3[i])][:4]+'_'+result_score[i].split(',')[2][2:]+'.jpg'))\n",
    "    \n",
    "    falsee4_img=os.path.join(root_path,'test',g_path[int(falsee4[i])])\n",
    "    shutil.copyfile(falsee4_img, os.path.join(dst_root,'{:04}'.format(int(falser[i]))+'_4_'+result[i].split(',')[3]+'_'+g_path[int(falsee4[i])][:4]+'_'+result_score[i].split(',')[3][2:]+'.jpg'))\n",
    "    \n",
    "    falsee5_img=os.path.join(root_path,'test',g_path[int(falsee5[i])])\n",
    "    shutil.copyfile(falsee5_img, os.path.join(dst_root,'{:04}'.format(int(falser[i]))+'_5_'+result[i].split(',')[4]+'_'+g_path[int(falsee5[i])][:4]+'_'+result_score[i].split(',')[4][2:]+'.jpg'))\n"
   ]
  },
  {
   "cell_type": "code",
   "execution_count": 42,
   "id": "cacb9d35-2adc-4657-a82f-0b529eae70bb",
   "metadata": {},
   "outputs": [
    {
     "data": {
      "text/plain": [
       "'0001'"
      ]
     },
     "execution_count": 42,
     "metadata": {},
     "output_type": "execute_result"
    }
   ],
   "source": []
  },
  {
   "cell_type": "code",
   "execution_count": null,
   "id": "614c75e7-2a2e-4efd-afc9-fb196cdfb305",
   "metadata": {},
   "outputs": [],
   "source": []
  }
 ],
 "metadata": {
  "kernelspec": {
   "display_name": "CLIP-ReID_KETI",
   "language": "python",
   "name": "clip-reid_keti"
  },
  "language_info": {
   "codemirror_mode": {
    "name": "ipython",
    "version": 3
   },
   "file_extension": ".py",
   "mimetype": "text/x-python",
   "name": "python",
   "nbconvert_exporter": "python",
   "pygments_lexer": "ipython3",
   "version": "3.8.17"
  }
 },
 "nbformat": 4,
 "nbformat_minor": 5
}
