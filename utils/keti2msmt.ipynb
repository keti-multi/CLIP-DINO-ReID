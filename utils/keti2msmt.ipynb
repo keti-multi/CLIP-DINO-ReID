{
 "cells": [
  {
   "cell_type": "code",
   "execution_count": 4,
   "id": "5a52d67e-f900-4212-9487-39adf19373ba",
   "metadata": {},
   "outputs": [
    {
     "data": {
      "text/plain": [
       "'\\nMSMT17 style data save\\n\\nMSMT17\\n-test\\n  - 0000\\n    - 0000_000_01_0303morning_0008_0.jpg # id_numinid_etc.jpg\\n  - 0001\\n  - ...\\n  - 3059\\n-train\\n  - 0000\\n  - 0001\\n  - ...\\n  - 1040\\n-list_gallery.txt\\n-list_query.txt\\n-list_train.txt\\n-list_val.txt\\n\\n\\n'"
      ]
     },
     "execution_count": 4,
     "metadata": {},
     "output_type": "execute_result"
    }
   ],
   "source": [
    "keti_db_root = \"/media/syh/ssd2/data/ReID/MUF_KETI/bounding_box_train\"\n",
    "\n",
    "'''\n",
    "MSMT17 style data save\n",
    "\n",
    "MSMT17\n",
    "-test\n",
    "  - 0000\n",
    "    - 0000_000_01_0303morning_0008_0.jpg # id_numinid_etc.jpg\n",
    "  - 0001\n",
    "  - ...\n",
    "  - 3059\n",
    "-train\n",
    "  - 0000\n",
    "  - 0001\n",
    "  - ...\n",
    "  - 1040\n",
    "-list_gallery.txt\n",
    "-list_query.txt\n",
    "-list_train.txt\n",
    "-list_val.txt\n",
    "\n",
    "\n",
    "'''"
   ]
  },
  {
   "cell_type": "code",
   "execution_count": 5,
   "id": "4765a7f5-b672-485a-b57d-663a293e4f4c",
   "metadata": {},
   "outputs": [],
   "source": [
    "import os"
   ]
  },
  {
   "cell_type": "code",
   "execution_count": 6,
   "id": "f367b660-6279-4e46-b464-33c597681d33",
   "metadata": {},
   "outputs": [],
   "source": [
    "img_list=os.listdir(keti_db_root)"
   ]
  },
  {
   "cell_type": "code",
   "execution_count": null,
   "id": "65b7922c-3192-4af0-9b1a-92d3ac9d32d1",
   "metadata": {},
   "outputs": [],
   "source": []
  },
  {
   "cell_type": "code",
   "execution_count": null,
   "id": "8e9ca980-1d64-44b8-ac9c-31969aa1b30f",
   "metadata": {},
   "outputs": [],
   "source": []
  },
  {
   "cell_type": "code",
   "execution_count": null,
   "id": "aff5ca29-db1e-4ffe-b13d-65cba6f3f676",
   "metadata": {},
   "outputs": [],
   "source": [
    "import shutil\n",
    "dst_root = \"/media/syh/ssd2/data/ReID/20230629/all\"\n",
    "for i in range(len(img_list)):\n",
    "    id=img_list[i].split('_')[0]\n",
    "    cam=img_list[i].split('_')[1]\n",
    "    date=img_list[i].split('_')[2]\n",
    "    fnum=img_list[i].split('_')[4].split('.')[0]\n",
    "    out_name = '{:04d}_{:04d}_{}_{:06d}.jpg'.format(int(id),int(cam[1:]),date,int(fnum))\n",
    "    dst_dir = os.path.join(dst_root,'{:04d}'.format(int(id)))\n",
    "    dst = os.path.join(dst_dir,out_name)\n",
    "    src = os.path.join(keti_db_root,img_list[i])\n",
    "    if not os.path.exists(dst_dir):\n",
    "        os.makedirs(dst_dir)\n",
    "    shutil.copyfile(src,dst)"
   ]
  },
  {
   "cell_type": "code",
   "execution_count": null,
   "id": "3c0c87bf-c0a4-4735-afb9-f5c222ee3a6d",
   "metadata": {},
   "outputs": [],
   "source": [
    "for i in range(len(img_list)):\n",
    "    print(img_list[i])\n",
    "    id=img_list[i].split('_')[0]\n",
    "    cam=img_list[i].split('_')[1]\n",
    "    date=img_list[i].split('_')[2]\n",
    "    fnum=img_list[i].split('_')[4].split('.')[0]\n",
    "    out_name = '{:04d}_{:04d}_{}_{:06d}.jpg'.format(int(id),int(cam[1:]),date,int(fnum))\n",
    "    print(out_name)\n",
    "    break\n"
   ]
  },
  {
   "cell_type": "code",
   "execution_count": 9,
   "id": "356a857f-dc0d-4819-9a7e-0dca10dc8fe4",
   "metadata": {},
   "outputs": [],
   "source": [
    "import shutil\n",
    "'''\n",
    "0017_0010_20230629133636_003046.jpg\n",
    "'''\n",
    "dst_root = \"/media/syh/ssd2/data/ReID/20230629/all\"\n",
    "for i in range(len(img_list)):\n",
    "    id=img_list[i].split('_')[0]\n",
    "    cam=img_list[i].split('_')[1]\n",
    "    date=img_list[i].split('_')[2]\n",
    "    fnum=img_list[i].split('_')[3].split('.')[0]\n",
    "    out_name = '{}_{}_{}_{}.jpg'.format(id,cam,date,fnum)\n",
    "    dst_dir = os.path.join(dst_root,id)\n",
    "    dst = os.path.join(dst_dir,out_name)\n",
    "    src = os.path.join(keti_db_root,img_list[i])\n",
    "    if not os.path.exists(dst_dir):\n",
    "        os.makedirs(dst_dir)\n",
    "    shutil.copyfile(src,dst)"
   ]
  },
  {
   "cell_type": "code",
   "execution_count": 10,
   "id": "3123da8c-4ee2-454b-829b-2b335d1a1ac1",
   "metadata": {},
   "outputs": [],
   "source": [
    "img_list=os.listdir(keti_db_root)"
   ]
  },
  {
   "cell_type": "code",
   "execution_count": 7,
   "id": "91b18b68-f28c-4bb9-a984-e37cb9444ce3",
   "metadata": {
    "scrolled": true
   },
   "outputs": [],
   "source": [
    "'''\n",
    "0000/0000_000_01_0303morning_0015_0.jpg 0\n",
    "'''\n",
    "img_list=os.listdir(keti_db_root)\n",
    "img_list.sort()\n",
    "with open('list_query.txt', 'w') as list_q_txt, open('list_gallery.txt', 'w') as list_g_txt:\n",
    "    for i in range(len(img_list)):\n",
    "        id_str = img_list[i].split(\"_\")[0]\n",
    "        line = id_str+\"/\"+img_list[i]+\" \"+str(int(id_str))+\"\\n\"\n",
    "        if (i%8):\n",
    "            list_g_txt.write(line)\n",
    "        else:\n",
    "            list_q_txt.write(line)\n",
    "        \n",
    "    \n",
    "# with open(succ_result_succ_file,\"r\") as f:\n",
    "#     while True:\n",
    "#         line = f.readline()\n",
    "#         if not line: break\n",
    "#         result_score_succ.append(line[:-1])\n",
    "#     f.close()\n"
   ]
  },
  {
   "cell_type": "code",
   "execution_count": 19,
   "id": "a9ddad18-a3f7-425a-8680-cc51ecb7bb5b",
   "metadata": {},
   "outputs": [
    {
     "name": "stdout",
     "output_type": "stream",
     "text": [
      "1\n",
      "2\n",
      "3\n",
      "4\n",
      "5\n",
      "6\n",
      "7\n",
      "9\n",
      "10\n",
      "11\n",
      "12\n",
      "13\n",
      "14\n",
      "15\n",
      "17\n",
      "18\n",
      "19\n",
      "20\n",
      "21\n",
      "22\n",
      "23\n",
      "25\n",
      "26\n",
      "27\n",
      "28\n",
      "29\n"
     ]
    }
   ],
   "source": [
    "for i in range(30):\n",
    "    if (i%8):\n",
    "        print(i)"
   ]
  },
  {
   "cell_type": "code",
   "execution_count": 13,
   "id": "605a4a0c-9b1e-4df0-a1ce-7e2f6d5fd11f",
   "metadata": {},
   "outputs": [
    {
     "name": "stdout",
     "output_type": "stream",
     "text": [
      "Collecting imutils\n",
      "  Using cached imutils-0.5.4-py3-none-any.whl\n",
      "Installing collected packages: imutils\n",
      "Successfully installed imutils-0.5.4\n"
     ]
    }
   ],
   "source": [
    "imutils.c"
   ]
  },
  {
   "cell_type": "code",
   "execution_count": 15,
   "id": "70f46287-de81-4c58-ba9f-b20293bc05b3",
   "metadata": {},
   "outputs": [
    {
     "name": "stdout",
     "output_type": "stream",
     "text": [
      "Collecting opencv-python\n",
      "  Obtaining dependency information for opencv-python from https://files.pythonhosted.org/packages/f5/d0/2e455d894ec0d6527e662ad55e70c04f421ad83a6fd0a54c3dd73c411282/opencv_python-4.8.0.76-cp37-abi3-manylinux_2_17_x86_64.manylinux2014_x86_64.whl.metadata\n",
      "  Using cached opencv_python-4.8.0.76-cp37-abi3-manylinux_2_17_x86_64.manylinux2014_x86_64.whl.metadata (19 kB)\n",
      "Requirement already satisfied: numpy>=1.17.0 in /home/syh/anaconda3/envs/CLIP-ReID_KETI/lib/python3.8/site-packages (from opencv-python) (1.24.4)\n",
      "Using cached opencv_python-4.8.0.76-cp37-abi3-manylinux_2_17_x86_64.manylinux2014_x86_64.whl (61.7 MB)\n",
      "Installing collected packages: opencv-python\n",
      "Successfully installed opencv-python-4.8.0.76\n"
     ]
    }
   ],
   "source": [
    "!pip install opencv-python"
   ]
  },
  {
   "cell_type": "code",
   "execution_count": null,
   "id": "5a844320-1874-4385-9d01-1a16600e793a",
   "metadata": {},
   "outputs": [],
   "source": []
  }
 ],
 "metadata": {
  "kernelspec": {
   "display_name": "CLIP-ReID_KETI",
   "language": "python",
   "name": "clip-reid_keti"
  },
  "language_info": {
   "codemirror_mode": {
    "name": "ipython",
    "version": 3
   },
   "file_extension": ".py",
   "mimetype": "text/x-python",
   "name": "python",
   "nbconvert_exporter": "python",
   "pygments_lexer": "ipython3",
   "version": "3.8.17"
  }
 },
 "nbformat": 4,
 "nbformat_minor": 5
}
