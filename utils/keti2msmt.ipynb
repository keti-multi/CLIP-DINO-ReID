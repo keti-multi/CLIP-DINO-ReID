{
 "cells": [
  {
   "cell_type": "code",
   "execution_count": 1,
   "id": "5a52d67e-f900-4212-9487-39adf19373ba",
   "metadata": {},
   "outputs": [
    {
     "data": {
      "text/plain": [
       "'\\nMSMT17 style data save\\n\\nMSMT17\\n-test\\n  - 0000\\n    - 0000_000_01_0303morning_0008_0.jpg # id_numinid_etc.jpg\\n  - 0001\\n  - ...\\n  - 3059\\n-train\\n  - 0000\\n  - 0001\\n  - ...\\n  - 1040\\n-list_gallery.txt\\n-list_query.txt\\n-list_train.txt\\n-list_val.txt\\n\\n\\n'"
      ]
     },
     "execution_count": 1,
     "metadata": {},
     "output_type": "execute_result"
    }
   ],
   "source": [
    "# keti_db_root = \"/media/syh/ssd2/data/ReID/MUF_KETI/bounding_box_train\"\n",
    "keti_db_root = \"/media/syh/ssd2/data/ReID/20230629/bounding_box_train\"\n",
    "'''\n",
    "MSMT17 style data save\n",
    "\n",
    "MSMT17\n",
    "-test\n",
    "  - 0000\n",
    "    - 0000_000_01_0303morning_0008_0.jpg # id_numinid_etc.jpg\n",
    "  - 0001\n",
    "  - ...\n",
    "  - 3059\n",
    "-train\n",
    "  - 0000\n",
    "  - 0001\n",
    "  - ...\n",
    "  - 1040\n",
    "-list_gallery.txt\n",
    "-list_query.txt\n",
    "-list_train.txt\n",
    "-list_val.txt\n",
    "\n",
    "\n",
    "'''"
   ]
  },
  {
   "cell_type": "code",
   "execution_count": 2,
   "id": "4765a7f5-b672-485a-b57d-663a293e4f4c",
   "metadata": {},
   "outputs": [],
   "source": [
    "import os"
   ]
  },
  {
   "cell_type": "code",
   "execution_count": 3,
   "id": "f367b660-6279-4e46-b464-33c597681d33",
   "metadata": {},
   "outputs": [],
   "source": [
    "img_list=os.listdir(keti_db_root)"
   ]
  },
  {
   "cell_type": "code",
   "execution_count": null,
   "id": "8e9ca980-1d64-44b8-ac9c-31969aa1b30f",
   "metadata": {},
   "outputs": [],
   "source": []
  },
  {
   "cell_type": "code",
   "execution_count": null,
   "id": "aff5ca29-db1e-4ffe-b13d-65cba6f3f676",
   "metadata": {},
   "outputs": [],
   "source": [
    "# import shutil\n",
    "# dst_root = \"/media/syh/ssd2/data/ReID/20230629/all\"\n",
    "# for i in range(len(img_list)):\n",
    "#     id=img_list[i].split('_')[0]\n",
    "#     cam=img_list[i].split('_')[1]\n",
    "#     date=img_list[i].split('_')[2]\n",
    "#     fnum=img_list[i].split('_')[4].split('.')[0]\n",
    "#     out_name = '{:04d}_{:04d}_{}_{:06d}.jpg'.format(int(id),int(cam[1:]),date,int(fnum))\n",
    "#     dst_dir = os.path.join(dst_root,'{:04d}'.format(int(id)))\n",
    "#     dst = os.path.join(dst_dir,out_name)\n",
    "#     src = os.path.join(keti_db_root,img_list[i])\n",
    "#     if not os.path.exists(dst_dir):\n",
    "#         os.makedirs(dst_dir)\n",
    "#     shutil.copyfile(src,dst)"
   ]
  },
  {
   "cell_type": "code",
   "execution_count": null,
   "id": "3c0c87bf-c0a4-4735-afb9-f5c222ee3a6d",
   "metadata": {},
   "outputs": [],
   "source": [
    "# for i in range(len(img_list)):\n",
    "#     print(img_list[i])\n",
    "#     id=img_list[i].split('_')[0]\n",
    "#     cam=img_list[i].split('_')[1]\n",
    "#     date=img_list[i].split('_')[2]\n",
    "#     fnum=img_list[i].split('_')[4].split('.')[0]\n",
    "#     out_name = '{:04d}_{:04d}_{}_{:06d}.jpg'.format(int(id),int(cam[1:]),date,int(fnum))\n",
    "#     print(out_name)\n",
    "#     break\n"
   ]
  },
  {
   "cell_type": "code",
   "execution_count": 11,
   "id": "ca01cfab-139c-4c38-ac8d-09508b01b47d",
   "metadata": {},
   "outputs": [
    {
     "data": {
      "text/plain": [
       "['000003', 'c40', '20230629133642', 'mp4', '1248.jpg']"
      ]
     },
     "execution_count": 11,
     "metadata": {},
     "output_type": "execute_result"
    }
   ],
   "source": [
    "img_list[0].split('_')"
   ]
  },
  {
   "cell_type": "code",
   "execution_count": 14,
   "id": "356a857f-dc0d-4819-9a7e-0dca10dc8fe4",
   "metadata": {},
   "outputs": [],
   "source": [
    "import shutil\n",
    "'''\n",
    "0017_0010_20230629133636_003046.jpg\n",
    "'''\n",
    "dst_root = \"/media/syh/ssd2/data/ReID/20230629/all\"\n",
    "for i in range(len(img_list)):\n",
    "    id=img_list[i].split('_')[0]\n",
    "    cam=img_list[i].split('_')[1]\n",
    "    date=img_list[i].split('_')[2]\n",
    "    fnum=img_list[i].split('_')[4].split('.')[0]\n",
    "    out_name = '{}_{}_{}_mp4_{}.jpg'.format(id,cam,date,fnum)\n",
    "    dst_dir = os.path.join(dst_root,id)\n",
    "    dst = os.path.join(dst_dir,out_name)\n",
    "    src = os.path.join(keti_db_root,img_list[i])\n",
    "    if not os.path.exists(dst_dir):\n",
    "        os.makedirs(dst_dir)\n",
    "    shutil.copyfile(src,dst)"
   ]
  },
  {
   "cell_type": "code",
   "execution_count": 21,
   "id": "3123da8c-4ee2-454b-829b-2b335d1a1ac1",
   "metadata": {},
   "outputs": [],
   "source": [
    "img_list=os.listdir(keti_db_root)"
   ]
  },
  {
   "cell_type": "code",
   "execution_count": 22,
   "id": "81367c23-af1e-4daf-9339-ef0da56b1bba",
   "metadata": {},
   "outputs": [
    {
     "data": {
      "text/plain": [
       "132785"
      ]
     },
     "execution_count": 22,
     "metadata": {},
     "output_type": "execute_result"
    }
   ],
   "source": [
    "len(img_list)"
   ]
  },
  {
   "cell_type": "code",
   "execution_count": 23,
   "id": "c026f868-a252-4cd1-b2f9-1d0ce385ad2f",
   "metadata": {},
   "outputs": [],
   "source": [
    "        id_str = img_list[i].split(\"_\")[0]\n",
    "        line = id_str+\"/\"+img_list[i]+\" \"+str(int(id_str))+\"\\n\""
   ]
  },
  {
   "cell_type": "code",
   "execution_count": 24,
   "id": "d62caa0b-6d15-4d78-beee-72b14b737934",
   "metadata": {},
   "outputs": [
    {
     "data": {
      "text/plain": [
       "'000007'"
      ]
     },
     "execution_count": 24,
     "metadata": {},
     "output_type": "execute_result"
    }
   ],
   "source": [
    "id_str"
   ]
  },
  {
   "cell_type": "code",
   "execution_count": 25,
   "id": "a0e6a228-cb3b-470e-99bd-e59997d9e636",
   "metadata": {},
   "outputs": [
    {
     "data": {
      "text/plain": [
       "'000007/000007_c40_20230629133642_mp4_2507.jpg 7\\n'"
      ]
     },
     "execution_count": 25,
     "metadata": {},
     "output_type": "execute_result"
    }
   ],
   "source": [
    "line"
   ]
  },
  {
   "cell_type": "code",
   "execution_count": 26,
   "id": "91b18b68-f28c-4bb9-a984-e37cb9444ce3",
   "metadata": {
    "scrolled": true
   },
   "outputs": [],
   "source": [
    "'''\n",
    "0000/0000_000_01_0303morning_0015_0.jpg 0\n",
    "'''\n",
    "img_list=os.listdir(keti_db_root)\n",
    "img_list.sort()\n",
    "with open('list_query.txt', 'w') as list_q_txt, open('list_gallery.txt', 'w') as list_g_txt:\n",
    "    for i in range(len(img_list)):\n",
    "        id_str = img_list[i].split(\"_\")[0]\n",
    "        line = id_str+\"/\"+img_list[i]+\" \"+str(int(id_str))+\"\\n\"\n",
    "        if (i%8):\n",
    "            list_g_txt.write(line)\n",
    "        else:\n",
    "            list_q_txt.write(line)\n",
    "        \n",
    "    \n",
    "# with open(succ_result_succ_file,\"r\") as f:\n",
    "#     while True:\n",
    "#         line = f.readline()\n",
    "#         if not line: break\n",
    "#         result_score_succ.append(line[:-1])\n",
    "#     f.close()\n"
   ]
  },
  {
   "cell_type": "code",
   "execution_count": null,
   "id": "5a844320-1874-4385-9d01-1a16600e793a",
   "metadata": {},
   "outputs": [],
   "source": []
  }
 ],
 "metadata": {
  "kernelspec": {
   "display_name": "CLIP-ReID_KETI",
   "language": "python",
   "name": "clip-reid_keti"
  },
  "language_info": {
   "codemirror_mode": {
    "name": "ipython",
    "version": 3
   },
   "file_extension": ".py",
   "mimetype": "text/x-python",
   "name": "python",
   "nbconvert_exporter": "python",
   "pygments_lexer": "ipython3",
   "version": "3.8.17"
  }
 },
 "nbformat": 4,
 "nbformat_minor": 5
}
