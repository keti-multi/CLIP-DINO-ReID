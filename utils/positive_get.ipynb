{
 "cells": [
  {
   "cell_type": "code",
   "execution_count": 1,
   "id": "1acd77df-47e2-455d-bd53-a2eeec881460",
   "metadata": {},
   "outputs": [],
   "source": [
    "import numpy as np\n",
    "import os\n",
    "\n",
    "error_file = \"./checks/clipreid_msmt_truer.txt\"\n",
    "error_result_file = \"./checks/true_cmc_keep.txt\"\n",
    "error_result_score_file = \"./checks/true_score_keep.txt\"\n",
    "succ_result_succ_file = \"./checks/succ_score_keep.txt\"\n",
    "\n",
    "root_path = \"/media/syh/ssd2/data/ReID/\"\n",
    "\n",
    "root_path = \"/media/syh/ssd2/data/ReID/20230629/\"\n",
    "\n",
    "\n",
    "\n",
    "q_txt = os.path.join(root_path,\"list_query.txt\")\n",
    "g_txt = os.path.join(root_path,\"list_gallery.txt\")\n"
   ]
  },
  {
   "cell_type": "code",
   "execution_count": 2,
   "id": "a2b30e66-5728-4f63-937e-67c3efb8ce38",
   "metadata": {
    "scrolled": true
   },
   "outputs": [],
   "source": [
    "falser=[]\n",
    "falsee1=[]\n",
    "falsee2=[]\n",
    "falsee3=[]\n",
    "falsee4=[]\n",
    "falsee5=[]\n",
    "with open(error_file,\"r\") as f:\n",
    "    while True:\n",
    "        line = f.readline()\n",
    "        if not line: break\n",
    "        falsees=line.split(',')\n",
    "        falser.append(falsees[0])\n",
    "        falsee1.append(falsees[1])\n",
    "        falsee2.append(falsees[2])\n",
    "        falsee3.append(falsees[3])\n",
    "        falsee4.append(falsees[4])\n",
    "        falsee5.append(falsees[5])\n",
    "    f.close()\n"
   ]
  },
  {
   "cell_type": "code",
   "execution_count": 3,
   "id": "0a0f0431-dfa0-4c82-bb6d-cbc328c291f4",
   "metadata": {},
   "outputs": [],
   "source": [
    "result=[]\n",
    "\n",
    "with open(error_result_file,\"r\") as f:\n",
    "    while True:\n",
    "        line = f.readline()\n",
    "        if not line: break\n",
    "        result.append(line[:-1])\n",
    "    f.close()"
   ]
  },
  {
   "cell_type": "code",
   "execution_count": 4,
   "id": "81e004aa-7fe2-44eb-8bed-3fdc7fb14883",
   "metadata": {},
   "outputs": [],
   "source": [
    "result_score=[]\n",
    "\n",
    "with open(error_result_score_file,\"r\") as f:\n",
    "    while True:\n",
    "        line = f.readline()\n",
    "        if not line: break\n",
    "        result_score.append(line[:-1])\n",
    "    f.close()"
   ]
  },
  {
   "cell_type": "code",
   "execution_count": 5,
   "id": "09445654-1a04-450f-a9a4-e50809accf8a",
   "metadata": {
    "scrolled": true
   },
   "outputs": [],
   "source": [
    "q_path=[]\n",
    "with open(q_txt,\"r\") as f:\n",
    "    while True:\n",
    "        line = f.readline()\n",
    "        if not line: break\n",
    "        q_path.append(line.split(' ')[0])\n",
    "    f.close()\n",
    "\n",
    "g_path=[]\n",
    "with open(g_txt,\"r\") as f:\n",
    "    while True:\n",
    "        line = f.readline()\n",
    "        if not line: break\n",
    "        g_path.append(line.split(' ')[0])\n",
    "    f.close()"
   ]
  },
  {
   "cell_type": "code",
   "execution_count": 6,
   "id": "0c6cdaeb-fa06-4186-8988-4e3fc384167d",
   "metadata": {
    "scrolled": true
   },
   "outputs": [],
   "source": [
    "import shutil\n",
    "out_dir = '/media/syh/hdd/Clip_ReID_KETI/pos_case_result_KETI'\n",
    "for i in range(len(falser)):\n",
    "    false_img=os.path.join(root_path,'test',q_path[int(falser[i])])\n",
    "    dst_root=os.path.join(out_dir,'{:04}'.format(int(falser[i])))\n",
    "    if not os.path.exists(dst_root):\n",
    "        os.makedirs(dst_root)\n",
    "    shutil.copyfile(false_img, os.path.join(dst_root,'{:04}'.format(int(falser[i]))+'_0_'+q_path[int(falser[i])][:4]+'.jpg'))\n",
    "    \n",
    "    falsee1_img=os.path.join(root_path,'test',g_path[int(falsee1[i])])\n",
    "    shutil.copyfile(falsee1_img, os.path.join(dst_root,'{:04}'.format(int(falser[i]))+'_1_'+result[i].split(',')[0]+'_'+g_path[int(falsee1[i])][:4]+'_'+result_score[i].split(',')[0][2:]+'.jpg'))\n",
    "    \n",
    "    falsee2_img=os.path.join(root_path,'test',g_path[int(falsee2[i])])\n",
    "    shutil.copyfile(falsee2_img, os.path.join(dst_root,'{:04}'.format(int(falser[i]))+'_2_'+result[i].split(',')[1]+'_'+g_path[int(falsee2[i])][:4]+'_'+result_score[i].split(',')[1][2:]+'.jpg'))\n",
    "    \n",
    "    falsee3_img=os.path.join(root_path,'test',g_path[int(falsee3[i])])\n",
    "    shutil.copyfile(falsee3_img, os.path.join(dst_root,'{:04}'.format(int(falser[i]))+'_3_'+result[i].split(',')[2]+'_'+g_path[int(falsee3[i])][:4]+'_'+result_score[i].split(',')[2][2:]+'.jpg'))\n",
    "    \n",
    "    falsee4_img=os.path.join(root_path,'test',g_path[int(falsee4[i])])\n",
    "    shutil.copyfile(falsee4_img, os.path.join(dst_root,'{:04}'.format(int(falser[i]))+'_4_'+result[i].split(',')[3]+'_'+g_path[int(falsee4[i])][:4]+'_'+result_score[i].split(',')[3][2:]+'.jpg'))\n",
    "    \n",
    "    falsee5_img=os.path.join(root_path,'test',g_path[int(falsee5[i])])\n",
    "    shutil.copyfile(falsee5_img, os.path.join(dst_root,'{:04}'.format(int(falser[i]))+'_5_'+result[i].split(',')[4]+'_'+g_path[int(falsee5[i])][:4]+'_'+result_score[i].split(',')[4][2:]+'.jpg'))\n"
   ]
  },
  {
   "cell_type": "code",
   "execution_count": 42,
   "id": "cacb9d35-2adc-4657-a82f-0b529eae70bb",
   "metadata": {},
   "outputs": [
    {
     "data": {
      "text/plain": [
       "'0001'"
      ]
     },
     "execution_count": 42,
     "metadata": {},
     "output_type": "execute_result"
    }
   ],
   "source": []
  },
  {
   "cell_type": "code",
   "execution_count": null,
   "id": "614c75e7-2a2e-4efd-afc9-fb196cdfb305",
   "metadata": {},
   "outputs": [],
   "source": []
  }
 ],
 "metadata": {
  "kernelspec": {
   "display_name": "CLIP-ReID_KETI",
   "language": "python",
   "name": "clip-reid_keti"
  },
  "language_info": {
   "codemirror_mode": {
    "name": "ipython",
    "version": 3
   },
   "file_extension": ".py",
   "mimetype": "text/x-python",
   "name": "python",
   "nbconvert_exporter": "python",
   "pygments_lexer": "ipython3",
   "version": "3.8.17"
  }
 },
 "nbformat": 4,
 "nbformat_minor": 5
}
