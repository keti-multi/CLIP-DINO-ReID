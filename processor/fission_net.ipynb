{
 "cells": [
  {
   "cell_type": "code",
   "execution_count": 11,
   "id": "d7cd0929-d1c0-46e4-b11a-2c10d818e1ba",
   "metadata": {},
   "outputs": [],
   "source": [
    "import sys"
   ]
  },
  {
   "cell_type": "code",
   "execution_count": 14,
   "id": "85491b43-3709-4bc1-8d12-51e4fa87c170",
   "metadata": {},
   "outputs": [],
   "source": [
    "sys.path.append(\"/home/syh/workspace/multi/CLIP-ReID_KETI\")"
   ]
  },
  {
   "cell_type": "code",
   "execution_count": 19,
   "id": "b023ed93-43e8-4cbf-b4d3-abba97d7a08a",
   "metadata": {},
   "outputs": [],
   "source": [
    "from model.make_model_clipreid import make_model\n",
    "from config import cfg"
   ]
  },
  {
   "cell_type": "code",
   "execution_count": 24,
   "id": "52aa9fb7-1855-441a-a3d8-12cf540b4984",
   "metadata": {},
   "outputs": [],
   "source": [
    "args_source=\"../configs/person/vit_clipreid_msmt.yml\""
   ]
  },
  {
   "cell_type": "code",
   "execution_count": 25,
   "id": "5407a814-c4a4-4b04-ab33-358e648d5d93",
   "metadata": {},
   "outputs": [],
   "source": [
    "cfg.merge_from_file(args_source)\n",
    "cfg.freeze()"
   ]
  },
  {
   "cell_type": "markdown",
   "id": "29263e45-370b-491e-8909-43acf60e67cb",
   "metadata": {},
   "source": [
    "# DataLoader"
   ]
  },
  {
   "cell_type": "code",
   "execution_count": 30,
   "id": "0fc62717-2843-4ce1-88d4-baa1e62e52e7",
   "metadata": {},
   "outputs": [
    {
     "name": "stdout",
     "output_type": "stream",
     "text": [
      "{1, 2, 3, 4, 5, 6, 7, 8, 9, 10, 11, 12, 13, 14, 15} cam_container\n",
      "{1, 2, 3, 4, 5, 6, 7, 8, 9, 10, 11, 12, 13, 14, 15} cam_container\n",
      "{1, 2, 3, 4, 5, 6, 7, 8, 9, 10, 11, 12, 13, 14, 15} cam_container\n",
      "{1, 2, 3, 4, 5, 6, 7, 8, 9, 10, 11, 12, 13, 14, 15} cam_container\n",
      "=> MSMT17 loaded\n",
      "Dataset statistics:\n",
      "  ----------------------------------------\n",
      "  subset   | # ids | # images | # cameras\n",
      "  ----------------------------------------\n",
      "  train    |  1041 |    32621 |        15\n",
      "  query    |  3060 |    11659 |        15\n",
      "  gallery  |  3060 |    82161 |        15\n",
      "  ----------------------------------------\n"
     ]
    }
   ],
   "source": [
    "from datasets.make_dataloader_clipreid import make_dataloader\n",
    "train_loader, train_loader_normal, val_loader, num_query, num_classes, camera_num, view_num = make_dataloader(cfg)"
   ]
  },
  {
   "cell_type": "markdown",
   "id": "d716eba3-e83f-4c6d-b5cf-2c71d83931d0",
   "metadata": {},
   "source": [
    "# Model"
   ]
  },
  {
   "cell_type": "code",
   "execution_count": 29,
   "id": "d8a487e0-2a09-4b0c-b225-bf074cc7bdb2",
   "metadata": {},
   "outputs": [
    {
     "name": "stdout",
     "output_type": "stream",
     "text": [
      "Resized position embedding: %s to %s torch.Size([197, 768]) torch.Size([129, 768])\n",
      "Position embedding resize to height:16 width: 8\n"
     ]
    }
   ],
   "source": [
    "model = make_model(cfg, num_class=num_classes, camera_num=camera_num, view_num = view_num)"
   ]
  },
  {
   "cell_type": "code",
   "execution_count": 39,
   "id": "bbcd7105-97e7-4a65-82a2-0e106716cc2b",
   "metadata": {},
   "outputs": [
    {
     "name": "stdout",
     "output_type": "stream",
     "text": [
      "Loading pretrained model from /media/syh/hdd/checkpoints/CLIP_ReID_KETI_MSMT17CLSUTERED/ViT-B-16_60.pth\n"
     ]
    }
   ],
   "source": [
    "model.load_param(cfg.TEST.WEIGHT)"
   ]
  },
  {
   "cell_type": "code",
   "execution_count": 42,
   "id": "6eda360a-f957-4d8d-93db-82042f345563",
   "metadata": {
    "scrolled": true
   },
   "outputs": [
    {
     "data": {
      "text/plain": [
       "PromptLearner()"
      ]
     },
     "execution_count": 42,
     "metadata": {},
     "output_type": "execute_result"
    }
   ],
   "source": [
    "model.prompt_learner"
   ]
  },
  {
   "cell_type": "code",
   "execution_count": null,
   "id": "d055a4b2-e5a6-48f5-b448-e30b6f6a6939",
   "metadata": {},
   "outputs": [],
   "source": []
  }
 ],
 "metadata": {
  "kernelspec": {
   "display_name": "CLIP-ReID_KETI",
   "language": "python",
   "name": "clip-reid_keti"
  },
  "language_info": {
   "codemirror_mode": {
    "name": "ipython",
    "version": 3
   },
   "file_extension": ".py",
   "mimetype": "text/x-python",
   "name": "python",
   "nbconvert_exporter": "python",
   "pygments_lexer": "ipython3",
   "version": "3.8.17"
  }
 },
 "nbformat": 4,
 "nbformat_minor": 5
}
